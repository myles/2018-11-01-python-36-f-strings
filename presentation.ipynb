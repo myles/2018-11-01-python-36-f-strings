{
 "cells": [
  {
   "cell_type": "markdown",
   "metadata": {
    "slideshow": {
     "slide_type": "slide"
    }
   },
   "source": [
    "# Python 3's f-strings\n",
    "\n",
    "## [mylesb.ca](https://mylesb.ca/) | [me@mylesb.ca](mailto:me@mylesb.ca) | [@mylesb](https://twitter.com/mylesb)"
   ]
  },
  {
   "cell_type": "markdown",
   "metadata": {
    "slideshow": {
     "slide_type": "slide"
    }
   },
   "source": [
    "# f-strings are **TOTALLY AWESOME**!"
   ]
  },
  {
   "cell_type": "code",
   "execution_count": 1,
   "metadata": {
    "hide_input": false,
    "slideshow": {
     "slide_type": "fragment"
    }
   },
   "outputs": [
    {
     "data": {
      "text/plain": [
       "'Hello Python Toronto!'"
      ]
     },
     "execution_count": 1,
     "metadata": {},
     "output_type": "execute_result"
    }
   ],
   "source": [
    "group = 'Python Toronto'\n",
    "\n",
    "f'Hello {group}!'"
   ]
  },
  {
   "cell_type": "markdown",
   "metadata": {
    "slideshow": {
     "slide_type": "slide"
    }
   },
   "source": [
    "## They also support expressions inside the `{ }`"
   ]
  },
  {
   "cell_type": "code",
   "execution_count": 2,
   "metadata": {
    "slideshow": {
     "slide_type": "fragment"
    }
   },
   "outputs": [
    {
     "data": {
      "text/plain": [
       "'Hello PYTHON TORONTO!'"
      ]
     },
     "execution_count": 2,
     "metadata": {},
     "output_type": "execute_result"
    }
   ],
   "source": [
    "f'Hello {group.upper()}!'"
   ]
  },
  {
   "cell_type": "markdown",
   "metadata": {
    "slideshow": {
     "slide_type": "slide"
    }
   },
   "source": [
    "## Even `dict`"
   ]
  },
  {
   "cell_type": "code",
   "execution_count": 3,
   "metadata": {
    "slideshow": {
     "slide_type": "fragment"
    }
   },
   "outputs": [],
   "source": [
    "portfolio = {'AAPL': 222.77, 'RHT': 122.31, 'GOOGL': 1111.77}"
   ]
  },
  {
   "cell_type": "code",
   "execution_count": 4,
   "metadata": {
    "slideshow": {
     "slide_type": "fragment"
    }
   },
   "outputs": [
    {
     "ename": "SyntaxError",
     "evalue": "invalid syntax (<ipython-input-4-552a7f3505aa>, line 1)",
     "output_type": "error",
     "traceback": [
      "\u001b[0;36m  File \u001b[0;32m\"<ipython-input-4-552a7f3505aa>\"\u001b[0;36m, line \u001b[0;32m1\u001b[0m\n\u001b[0;31m    f'${portfolio['GOOGL']}USD'\u001b[0m\n\u001b[0m                       ^\u001b[0m\n\u001b[0;31mSyntaxError\u001b[0m\u001b[0;31m:\u001b[0m invalid syntax\n"
     ]
    }
   ],
   "source": [
    "f'${portfolio['GOOGL']}USD'"
   ]
  },
  {
   "cell_type": "markdown",
   "metadata": {
    "slideshow": {
     "slide_type": "fragment"
    }
   },
   "source": [
    "### While that's a little confusing..."
   ]
  },
  {
   "cell_type": "code",
   "execution_count": 5,
   "metadata": {
    "slideshow": {
     "slide_type": "fragment"
    }
   },
   "outputs": [
    {
     "data": {
      "text/plain": [
       "'$1111.77USD'"
      ]
     },
     "execution_count": 5,
     "metadata": {},
     "output_type": "execute_result"
    }
   ],
   "source": [
    "f\"${portfolio['GOOGL']}USD\""
   ]
  },
  {
   "cell_type": "markdown",
   "metadata": {
    "slideshow": {
     "slide_type": "slide"
    }
   },
   "source": [
    "## But look what else you can do..."
   ]
  },
  {
   "cell_type": "code",
   "execution_count": 6,
   "metadata": {
    "slideshow": {
     "slide_type": "fragment"
    }
   },
   "outputs": [
    {
     "data": {
      "text/plain": [
       "'$1,111.77USD'"
      ]
     },
     "execution_count": 6,
     "metadata": {},
     "output_type": "execute_result"
    }
   ],
   "source": [
    "f\"${portfolio['GOOGL']:,}USD\""
   ]
  },
  {
   "cell_type": "markdown",
   "metadata": {
    "slideshow": {
     "slide_type": "slide"
    }
   },
   "source": [
    "# You can use them in `class`..."
   ]
  },
  {
   "cell_type": "code",
   "execution_count": 7,
   "metadata": {
    "slideshow": {
     "slide_type": "fragment"
    }
   },
   "outputs": [],
   "source": [
    "class Drink:\n",
    "    def __init__(self, name, caffine):\n",
    "        self.name = name\n",
    "        self.caffine = caffine\n",
    "\n",
    "    def __str__(self):\n",
    "        return f'{self.name}'\n",
    "\n",
    "    def caffine_for_quantity(self, size=100000):\n",
    "        return (\n",
    "            f'{self.name} has {self.caffine*size:.0f} '\n",
    "            f'mg for {size/1000:.0f} grams.'\n",
    "        )"
   ]
  },
  {
   "cell_type": "code",
   "execution_count": 8,
   "metadata": {
    "slideshow": {
     "slide_type": "slide"
    }
   },
   "outputs": [
    {
     "data": {
      "text/plain": [
       "'Coffee has 40 mg for 100 grams.'"
      ]
     },
     "execution_count": 8,
     "metadata": {},
     "output_type": "execute_result"
    }
   ],
   "source": [
    "coffee = Drink('Coffee', .0004)\n",
    "\n",
    "f'{coffee.caffine_for_quantity()}'"
   ]
  },
  {
   "cell_type": "code",
   "execution_count": 9,
   "metadata": {
    "slideshow": {
     "slide_type": "fragment"
    }
   },
   "outputs": [
    {
     "data": {
      "text/plain": [
       "'Coffee has 184 mg for 460 grams.'"
      ]
     },
     "execution_count": 9,
     "metadata": {},
     "output_type": "execute_result"
    }
   ],
   "source": [
    "f'{coffee.caffine_for_quantity(459732)}'"
   ]
  },
  {
   "cell_type": "code",
   "execution_count": 10,
   "metadata": {
    "slideshow": {
     "slide_type": "skip"
    }
   },
   "outputs": [
    {
     "name": "stdout",
     "output_type": "stream",
     "text": [
      "f-strings 1.2643750110000003\n",
      "%-formatting 2.3980831910000013\n",
      ".format() 3.153147552\n",
      "concatenation + 2.0541713359999996\n",
      "concatenation () 1.5040422759999998\n"
     ]
    }
   ],
   "source": [
    "import timeit\n",
    "\n",
    "format_funcs = {\n",
    "    'f-strings': \"\"\"\n",
    "def format(superhero, rank):\n",
    "    return f'{superhero} has a rank of {rank}!'\n",
    "\"\"\",\n",
    "    '%-formatting': \"\"\"\n",
    "def format(superhero, rank):\n",
    "    return '%s has a rank of %s!' % (superhero, str(rank))\n",
    "\"\"\",\n",
    "    '.format()': \"\"\"\n",
    "def format(superhero, rank):\n",
    "    return '{} has a rank of {}!'.format(superhero, str(rank))\n",
    "\"\"\",\n",
    "    'concatenation +': \"\"\"\n",
    "def format(superhero, rank):\n",
    "    return superhero + ' has a rank of ' + str(rank) + '!'\n",
    "\"\"\",\n",
    "    'concatenation ()': \"\"\"\n",
    "def format(superhero, rank):\n",
    "    return superhero, ' has a rank of ', str(rank), '!'\n",
    "\"\"\"\n",
    "}\n",
    "\n",
    "test_func = \"\"\"def test_format():\n",
    "    for superhero in ('Wonder Woman', 'Supergirl', 'Batman', 'Robin'):\n",
    "        for rank in range (1, 101):\n",
    "            format(superhero, rank)\n",
    "\"\"\"\n",
    "\n",
    "for key, func in format_funcs.items():\n",
    "    print(key, timeit.timeit('test_format()', func + test_func, number=10000))"
   ]
  },
  {
   "cell_type": "code",
   "execution_count": 11,
   "metadata": {
    "slideshow": {
     "slide_type": "skip"
    }
   },
   "outputs": [],
   "source": [
    "%matplotlib inline\n",
    "import pandas as pd\n",
    "\n",
    "df = pd.DataFrame([\n",
    "    {'method': 'f-strings', 'time': 1.2444629460001124},\n",
    "    {'method': '%-formatting', 'time': 2.323644578999847},\n",
    "    {'method': '.format()', 'time': 3.0558486750001066},\n",
    "    {'method': 'concatenation +', 'time': 2.0393622280003},\n",
    "    {'method': 'concatenation ()', 'time': 1.4142364679996717}\n",
    "])"
   ]
  },
  {
   "cell_type": "markdown",
   "metadata": {
    "slideshow": {
     "slide_type": "slide"
    }
   },
   "source": [
    "# and it's fast..."
   ]
  },
  {
   "cell_type": "code",
   "execution_count": 12,
   "metadata": {
    "slideshow": {
     "slide_type": "fragment"
    }
   },
   "outputs": [
    {
     "data": {
      "text/plain": [
       "<matplotlib.axes._subplots.AxesSubplot at 0x1120995f8>"
      ]
     },
     "execution_count": 12,
     "metadata": {},
     "output_type": "execute_result"
    },
    {
     "data": {
      "image/png": "[encoded data removed]",
      "text/plain": [
       "<Figure size 432x288 with 1 Axes>"
      ]
     },
     "metadata": {},
     "output_type": "display_data"
    }
   ],
   "source": [
    "df.sort_values('time').plot(kind='barh', x='method', y='time')"
   ]
  },
  {
   "cell_type": "markdown",
   "metadata": {
    "slideshow": {
     "slide_type": "slide"
    }
   },
   "source": [
    "# Want to work with me?\n",
    "\n",
    "## GrantMatch is looking for a _Student Co-op -- Junior Software Developer_\n",
    "\n",
    "### <https://fairtax.ca/careers/junior-software-developer/>"
   ]
  },
  {
   "cell_type": "markdown",
   "metadata": {
    "slideshow": {
     "slide_type": "fragment"
    }
   },
   "source": [
    "# Thx for you time!"
   ]
  }
 ],
 "metadata": {
  "celltoolbar": "Slideshow",
  "kernelspec": {
   "display_name": "Python 3",
   "language": "python",
   "name": "python3"
  },
  "language_info": {
   "codemirror_mode": {
    "name": "ipython",
    "version": 3
   },
   "file_extension": ".py",
   "mimetype": "text/x-python",
   "name": "python",
   "nbconvert_exporter": "python",
   "pygments_lexer": "ipython3",
   "version": "3.7.0"
  }
 },
 "nbformat": 4,
 "nbformat_minor": 2
}
